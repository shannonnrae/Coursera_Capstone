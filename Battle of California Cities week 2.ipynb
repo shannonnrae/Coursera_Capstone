{
 "cells": [
  {
   "cell_type": "markdown",
   "metadata": {},
   "source": [
    "<h1><center> Battle of California Cities </center></h1>"
   ]
  },
  {
   "cell_type": "markdown",
   "metadata": {},
   "source": [
    "<h2><center> IBM: Applied Data Science Coursera Capstone </center></h2>"
   ]
  },
  {
   "cell_type": "markdown",
   "metadata": {},
   "source": [
    "<h3><center> By: Shannon Welch </center></h3>"
   ]
  },
  {
   "cell_type": "markdown",
   "metadata": {},
   "source": [
    "<h4><center> June 2019 </center></h4>"
   ]
  },
  {
   "cell_type": "markdown",
   "metadata": {},
   "source": [
    "###### Introduction:"
   ]
  },
  {
   "cell_type": "markdown",
   "metadata": {},
   "source": [
    "For many people, traveling to a different state or country can be taunting. As a tourist, you don’t know the best places to eat or go like the locals do. You also don’t know the new hip, trending spots. Most of the time when people travel they have a few places that they want to see but then they are open to options depending on how they feel. The important thing is that they enjoy the trip, rather it be by relaxing on the beach or going to a nigh club and partying, or both.\n",
    "\n",
    "California is the third largest state in the United States with an area of 163,696 miles squared. It also has a population of over 39.5 million people according to the United States census Bureau in 2018. With this large population value comes a very diverse population but because California is such a large a beautiful State, there is something for everyone here. This brings us to Tourist attractions, can you say Road Trip! San Francisco and the Golden Gate Bridge, Yosemite National Park, Disneyland, Death Valley National Park, Big Sur, Lake Tahoe, and the Channel Islands National Park are just a few of the amazing places to visit in California. This brings us to the Business plan. Say you are on a road trip through California and you need to stop for any reason. This program works similarly to yelp in the fact that you type in a city you wish to stop at and it returns venues nearby. You can also search for a specific type of venue, say you’re feeling sushi since you’re close to the beach, or authentic Mexican food since you’re near the boarder, or whatever your little heart desires, you name it, the City of your choosing portably has it. After you chose a type of place you would like to visit it will then give you a list of options to chose from. From that you can check ratings from the Foursquare data to see if that is a place you would like to try.\n",
    "\n",
    "This project is particularly useful for those traveling or living in California. The greatest part about this is that the target audience is everyone in California. "
   ]
  },
  {
   "cell_type": "markdown",
   "metadata": {},
   "source": [
    "###### Data:"
   ]
  },
  {
   "cell_type": "markdown",
   "metadata": {},
   "source": [
    "__To make this program, we will need the following data:__\n",
    "\n",
    "List of Cities in California with there appropriate latitude and longitude to map as well as find venues nearby\n",
    "All types of venue data so that the tourist can access whatever type of venue desired\n",
    "\n",
    "__Sources of data and methods to extract them:__\n",
    "\n",
    "For this project, data was taken from a Kaggle CSV file and converted into a data frame consisting of all of the cities in California and their prospective latitudes and longitudes. This particular dataset has 459 California cities listed. Foursquare API was then used to get the menu data for those cities. Foursquare has one of the largest databases of 105+ million places, therefore is a good source to find venues for those traveling new places or just those looking to try something new."
   ]
  },
  {
   "cell_type": "markdown",
   "metadata": {},
   "source": [
    "###### Methodology:"
   ]
  },
  {
   "cell_type": "markdown",
   "metadata": {},
   "source": [
    " After choosing a dataset of California cities the first step is to read in the CSV data file and then convert it to a pandas DataFrame. There was some renaming of the columns done but overall the data was pretty clean. Using this data, the next step was uploading the Geocoder package to display the coordinates of California. These coordinates were then used to display a map of California using the uploaded package Folium. From this the cities were then plotted on the California map to show geographical location of each city.\n",
    "\n",
    "Next, after registering for a Foursquare Developer Account in order to obtain the Foursquare ID and Foursquare secret key to call the venue data, code was ran to output the venues in a particular city. These Foursquare calls using the cities name and latitude and longitude values and in return they return venue data in JSON format. That venue data then has to be converted into a DataFrame. With this new data analysis happens by grouping cities and taking the mean frequency of occurrence of each venue category. This is in preparation of clustering the data. \n",
    "\n",
    "K-means clustering is then used on the data. Five centroids were chosen and the written code allocates every data point to the nearest cluster while keeping the centroids as small as possible. K-means clustering is one of the simplest and most popular unsupervised machine learning algorithms and works well for this problem.\n",
    "\n",
    "The last little bit of code also offers the user a chance to see the rating of the chosen venue in the city of interest. As well as any trending venues in that city. The trending data is real time data so it could be different at any time of the day."
   ]
  },
  {
   "cell_type": "markdown",
   "metadata": {},
   "source": [
    "###### Results:"
   ]
  },
  {
   "cell_type": "markdown",
   "metadata": {},
   "source": [
    "The results from the k-means clustering show that we can categorize the neighborhoods into 5 clusters based on frequency of occurrence for most common venue.\n",
    "\n",
    "__Cluster 0: (Purple) Has mostly Asian influences for food as well as Fish/seafood.__\n",
    "\n",
    "__Cluster 1: (Light Blue) Has mostly Diners Banks, Pharmacies and Grocery Stores.__\n",
    "\n",
    "__Cluster 2: (Light Green) Has mostly Farmers markets and Yoshoku Restaurants.__\n",
    "\n",
    "__Cluster 3: (Orange) Has mostly Bakeries, Parks and Convenience stores.__\n",
    "\n",
    "__Cluster 4: (Red) Has mostly Thai Restaurants and Sandwich places.__\n",
    "\n",
    "The map below shows the cities Clustered by most common venues. From this clustering we can infer that Cluster 1 and Cluster 3 are probably more suburban areas where as the other three Clusters are more categorized by common venues to be bigger cities.\n",
    "\n"
   ]
  },
  {
   "cell_type": "markdown",
   "metadata": {},
   "source": [
    "![](Cal_cities_map.png)"
   ]
  },
  {
   "cell_type": "markdown",
   "metadata": {},
   "source": [
    "###### Discussion:"
   ]
  },
  {
   "cell_type": "markdown",
   "metadata": {},
   "source": [
    "Assuming this is going to be used for those that are traveling in California, These clusters show most popular frequency of venues clustered by cities. Inference from the clustering shows that Cluster1 and Cluster 3 seem to be more suburban places while Cluster 2 and Cluster 4 have a wider range of venues and Cluster 0 has an abundance of Asian influences as well as Fish Markets. From this as a Tourist the places in Cluster 1, Cluster 3 or Cluster 4 would be good places to stop for either breakfast or lunch because they have because they have an abundance of Diners, Bakeries, and Sandwich places whereas the other Clusters seem to be more cultured which would be good dinner options or night life options."
   ]
  },
  {
   "cell_type": "markdown",
   "metadata": {},
   "source": [
    "###### Conclusion:"
   ]
  },
  {
   "cell_type": "markdown",
   "metadata": {},
   "source": [
    "This project has gone through the process of identifying the business problem, specifying the required data, extracting and preparing the data, preforming machine learning by clustering the data into 5 different clusters throughout California and giving people potential ideas as which cities have the most abundance of interesting venues to them."
   ]
  },
  {
   "cell_type": "code",
   "execution_count": null,
   "metadata": {},
   "outputs": [],
   "source": []
  }
 ],
 "metadata": {
  "kernelspec": {
   "display_name": "Python 3",
   "language": "python",
   "name": "python3"
  },
  "language_info": {
   "codemirror_mode": {
    "name": "ipython",
    "version": 3
   },
   "file_extension": ".py",
   "mimetype": "text/x-python",
   "name": "python",
   "nbconvert_exporter": "python",
   "pygments_lexer": "ipython3",
   "version": "3.6.8"
  }
 },
 "nbformat": 4,
 "nbformat_minor": 2
}
