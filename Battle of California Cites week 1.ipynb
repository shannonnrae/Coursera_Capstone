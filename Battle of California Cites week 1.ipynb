{
 "cells": [
  {
   "cell_type": "markdown",
   "metadata": {},
   "source": [
    "# Capstone Project: The Battle of California Cities"
   ]
  },
  {
   "cell_type": "markdown",
   "metadata": {},
   "source": [
    "###### Project Description:"
   ]
  },
  {
   "cell_type": "markdown",
   "metadata": {},
   "source": [
    "California is the third largest state in the United States with an area of 163,696 miles squared. It also has a population of over 39.5 million people according to the United States census Bureau in 2018. With this large population value comes a very diverse population but because California is such a large a beautiful State, there is something for everyone here. This brings us to Tourist attractions, can you say Road Trip! San Francisco and the Golden Gate Bridge, Yosemite National Park, Disneyland, Death Valley National Park, Big Sur, Lake Tahoe, and the Channel Islands National Park are just a few of the amazing places to visit in California. This brings us to the Business plan. Say you are on a road trip through California and you need to stop for any reason. This program works similarly to yelp in the fact that you type in a city you wish to stop at and it returns venues nearby. You can also search for a specific type of venue, say you’re feeling sushi since you’re close to the beach, or authentic Mexican food since you’re near the boarder, or whatever your little heart desires, you name it, the City of your choosing portably has it. After you chose a type of place you would like to visit it will then give you a list of options to chose from. From that you can check ratings from the Foursquare data to see if that is a place you would like to try."
   ]
  },
  {
   "cell_type": "markdown",
   "metadata": {},
   "source": [
    "###### Data Description:"
   ]
  },
  {
   "cell_type": "markdown",
   "metadata": {},
   "source": [
    "Although I could not find data for the Tourist attractions latitude and longitude in California, I found a dataset on Kaggle that has all of the Cities in California latitude and longitude values. I am using that in conjunction with the mandatory Foursquare data to provide venues in the City of the users choosing."
   ]
  },
  {
   "cell_type": "code",
   "execution_count": null,
   "metadata": {},
   "outputs": [],
   "source": []
  }
 ],
 "metadata": {
  "kernelspec": {
   "display_name": "Python 3",
   "language": "python",
   "name": "python3"
  },
  "language_info": {
   "codemirror_mode": {
    "name": "ipython",
    "version": 3
   },
   "file_extension": ".py",
   "mimetype": "text/x-python",
   "name": "python",
   "nbconvert_exporter": "python",
   "pygments_lexer": "ipython3",
   "version": "3.6.8"
  }
 },
 "nbformat": 4,
 "nbformat_minor": 2
}
